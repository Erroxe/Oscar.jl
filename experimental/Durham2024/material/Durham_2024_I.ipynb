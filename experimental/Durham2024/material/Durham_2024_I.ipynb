{
 "cells": [
  {
   "cell_type": "markdown",
   "id": "8da163a2",
   "metadata": {},
   "source": [
    "# Algebraic Geometry in OSCAR: part I\n",
    "\n",
    "[OSCAR](https://www.computeralgebra.de) is a computer algebra system whose development is funded by the Deutsche Forschungsgemeinschaft (DFG) as part of the SFB-TRR 195. It is open source and can be found on [GitHub](www.github.com/oscar-system/Oscar.jl). The core functionality is for all kinds of *symbolic computations* and comprises number theory, group and representation theory, polyhedral geometry, commutative algebra, ...\n",
    "\n",
    "Today, we will have a look at how to use OSCAR to do Algebraic Geometry and, in particular, Intersection Theory. We will mostly follow **[Ful98]** and the [stacks project](https://stacks.math.columbia.edu/)."
   ]
  },
  {
   "cell_type": "markdown",
   "id": "a55e6e76",
   "metadata": {},
   "source": [
    "### Installation and starting up OSCAR \n",
    "\n",
    "Installation instructions for OSCAR can be found on its [website](https://www.oscar-system.org/install/). \n",
    "For the purpose of this course, we shall need a very particular branch of OSCAR which can be installed using the following commands."
   ]
  },
  {
   "cell_type": "code",
   "execution_count": null,
   "id": "aa985b7c",
   "metadata": {},
   "outputs": [],
   "source": [
    "using Pkg\n",
    "]add https://github.com/HechtiDerLachs/Oscar.jl#Durham_2024"
   ]
  },
  {
   "cell_type": "markdown",
   "id": "dede3a91",
   "metadata": {},
   "source": [
    "To use OSCAR, start up `julia` and type"
   ]
  },
  {
   "cell_type": "code",
   "execution_count": null,
   "id": "8aa0970f",
   "metadata": {},
   "outputs": [],
   "source": [
    "#using Revise, Oscar # Revise is another very useful, independent package \n",
    "                     # which allows you to change code without restarting.\n",
    "using Oscar"
   ]
  },
  {
   "cell_type": "markdown",
   "id": "5d5d4ffd",
   "metadata": {},
   "source": [
    "You may need to do some updates, eventually:"
   ]
  },
  {
   "cell_type": "code",
   "execution_count": null,
   "id": "f7c0f6e9",
   "metadata": {},
   "outputs": [],
   "source": [
    "]up"
   ]
  },
  {
   "cell_type": "markdown",
   "id": "21fba4ed",
   "metadata": {},
   "source": [
    "### First steps for Algebraic Geometry in OSCAR\n",
    "\n",
    "Let us define an elliptic curve $E$ over the function field $\\mathbb k(t)$ for $\\mathbb k = \\mathbb F_{113}$."
   ]
  },
  {
   "cell_type": "code",
   "execution_count": null,
   "id": "2c260e95",
   "metadata": {},
   "outputs": [],
   "source": [
    "kk = GF(113) # the finite field (Galois field) with 113 elements"
   ]
  },
  {
   "cell_type": "code",
   "execution_count": null,
   "id": "4327a12e",
   "metadata": {},
   "outputs": [],
   "source": [
    "kkt_poly, t_poly = kk[:t] # the polynomial ring in one variable `t` over `kk`"
   ]
  },
  {
   "cell_type": "code",
   "execution_count": null,
   "id": "159c11a4",
   "metadata": {},
   "outputs": [],
   "source": [
    "kkt_field = fraction_field(kkt_poly) # the fraction field of that polynomial ring"
   ]
  },
  {
   "cell_type": "code",
   "execution_count": null,
   "id": "0aa993cc",
   "metadata": {},
   "outputs": [],
   "source": [
    "t_field = kkt_field(t_poly) # the monomial `t`, but as an element of the fraction field"
   ]
  },
  {
   "cell_type": "code",
   "execution_count": null,
   "id": "14367677",
   "metadata": {},
   "outputs": [],
   "source": [
    "P, (x, y) = kkt_field[:x, :y]; # the bivariate polynomial ring over `kkt_field`\n",
    "P"
   ]
  },
  {
   "cell_type": "code",
   "execution_count": null,
   "id": "0135afd3",
   "metadata": {},
   "outputs": [],
   "source": [
    "f = y^2 - x^3 - (t_poly^8 - 1)*x # a Weierstrass equation for an elliptic curve"
   ]
  },
  {
   "cell_type": "code",
   "execution_count": null,
   "id": "549c5e73",
   "metadata": {},
   "outputs": [],
   "source": [
    "E = elliptic_curve(f, x, y) # the associated elliptic curve as an instance of `EllipticCurve`"
   ]
  },
  {
   "cell_type": "markdown",
   "id": "c6ca76fa",
   "metadata": {},
   "source": [
    "### Affine schemes in OSCAR\n",
    "\n",
    "For an elliptic curve as above with *integral* coefficients, we can build the *Weierstrass model* of its associated *elliptic surface*."
   ]
  },
  {
   "cell_type": "code",
   "execution_count": null,
   "id": "379dea9b",
   "metadata": {},
   "outputs": [],
   "source": [
    "P, (x, y, t) = kk[:x, :y, :t] # a multivariate polynomial ring in three variables\n",
    "f = y^2 - x^3 - (t^8 - 1)*x # the defining equation for the Weierstrass chart\n",
    "I = ideal(P, f) # a principal ideal in `P`"
   ]
  },
  {
   "cell_type": "markdown",
   "id": "bbf497c0",
   "metadata": {},
   "source": [
    "To any finitely generated `kk`-algebra we can associate its [spectrum](https://stacks.math.columbia.edu/tag/01HR)."
   ]
  },
  {
   "cell_type": "code",
   "execution_count": null,
   "id": "4709c18a",
   "metadata": {},
   "outputs": [],
   "source": [
    "IA3 = spec(P) # the affine scheme associated to `P`\n",
    "W, inc_W = sub(IA3, I) # the closed subscheme defined by `I` together with its `ClosedEmbedding`\n",
    "W"
   ]
  },
  {
   "cell_type": "code",
   "execution_count": null,
   "id": "d770d898",
   "metadata": {},
   "outputs": [],
   "source": [
    "W_sing, inc_W_sing = singular_locus(W) # the singular locus of `W` with its `ClosedEmbedding`\n",
    "W_sing"
   ]
  },
  {
   "cell_type": "markdown",
   "id": "2ce08ef2",
   "metadata": {},
   "source": [
    "The second return value is a [closed embedding](https://stacks.math.columbia.edu/tag/01HJ) which has its own datatype and its own methods in OSCAR."
   ]
  },
  {
   "cell_type": "code",
   "execution_count": null,
   "id": "f505834e",
   "metadata": {},
   "outputs": [],
   "source": [
    "typeof(inc_W_sing)"
   ]
  },
  {
   "cell_type": "code",
   "execution_count": null,
   "id": "53e3e75d",
   "metadata": {},
   "outputs": [],
   "source": [
    "methodswith(ClosedEmbedding)"
   ]
  },
  {
   "cell_type": "code",
   "execution_count": null,
   "id": "cb207814",
   "metadata": {},
   "outputs": [],
   "source": [
    "I_sing = image_ideal(inc_W_sing) # the ideal defining `W_sing` as a closed subscheme of `W`"
   ]
  },
  {
   "cell_type": "markdown",
   "id": "17583d78",
   "metadata": {},
   "source": [
    "We can get our hands on the distict points of the singular locus via a primary decomposition."
   ]
  },
  {
   "cell_type": "code",
   "execution_count": null,
   "id": "2a69a6f4",
   "metadata": {
    "scrolled": true
   },
   "outputs": [],
   "source": [
    "I_sing_dec = primary_decomposition(I_sing) # eight distinct points at `(x, y, t) = (0, 0, \\zeta_8^k)`"
   ]
  },
  {
   "cell_type": "markdown",
   "id": "63ed9eb3",
   "metadata": {},
   "source": [
    "In OSCAR we can work with polynomial rings and their quotients, but also with *localizations*."
   ]
  },
  {
   "cell_type": "code",
   "execution_count": null,
   "id": "5bf7175e",
   "metadata": {},
   "outputs": [],
   "source": [
    "U = hypersurface_complement(W, t^8-1)"
   ]
  },
  {
   "cell_type": "code",
   "execution_count": null,
   "id": "2a6a96a1",
   "metadata": {},
   "outputs": [],
   "source": [
    "Sigma, _ = singular_locus(U)\n",
    "is_empty(Sigma)"
   ]
  },
  {
   "cell_type": "markdown",
   "id": "55f93291",
   "metadata": {},
   "source": [
    "### Covered schemes in OSCAR\n",
    "\n",
    "The above were examples of *affine schemes* and their morphisms. These are but wrappers of objects in commutative algebra. But in order to construct the actual elliptic surface associated to $E$, we need to resolve the singularities of the Weierstrass model $W$. \n",
    "\n",
    "This will lead to *covered schemes* which are glued from affine schemes as for example described [here](https://stacks.math.columbia.edu/tag/01JA)."
   ]
  },
  {
   "cell_type": "code",
   "execution_count": null,
   "id": "8ccc870e",
   "metadata": {},
   "outputs": [],
   "source": [
    "P1 = I_sing_dec[1][1] # an ideal in `OO(W)`\n",
    "pr1 = blow_up(W, P1) # the projection morphism `W1 -> W`"
   ]
  },
  {
   "cell_type": "markdown",
   "id": "b1661ec9",
   "metadata": {},
   "source": [
    "We have just [blown up](https://stacks.math.columbia.edu/tag/052P) the affine scheme `W` along the ideal `P1`."
   ]
  },
  {
   "cell_type": "code",
   "execution_count": null,
   "id": "3b119926",
   "metadata": {},
   "outputs": [],
   "source": [
    "W1 = domain(pr1); # a `CoveredScheme` over `kk`\n",
    "cov = default_covering(W1) # the initial `Covering` used to define the scheme"
   ]
  },
  {
   "cell_type": "code",
   "execution_count": null,
   "id": "8b77f6d5",
   "metadata": {},
   "outputs": [],
   "source": [
    "U = patches(cov)[1] # an affine scheme; the first chart of `W1`"
   ]
  },
  {
   "cell_type": "code",
   "execution_count": null,
   "id": "cdfde006",
   "metadata": {},
   "outputs": [],
   "source": [
    "V = patches(cov)[2]"
   ]
  },
  {
   "cell_type": "code",
   "execution_count": null,
   "id": "0f47df3a",
   "metadata": {},
   "outputs": [],
   "source": [
    "glue = cov[U, V] # either two `patches` in a `Covering` might be glued along open subsets"
   ]
  },
  {
   "cell_type": "code",
   "execution_count": null,
   "id": "872dc99d",
   "metadata": {},
   "outputs": [],
   "source": [
    "U_simp = simplify(U) # one can always try to eliminate variables using `simplify`"
   ]
  },
  {
   "cell_type": "code",
   "execution_count": null,
   "id": "64edc87a",
   "metadata": {},
   "outputs": [],
   "source": [
    "E1 = exceptional_divisor(pr1) # the exceptional divisor of the blowup\n",
    "typeof(E1)"
   ]
  },
  {
   "cell_type": "code",
   "execution_count": null,
   "id": "cede2895",
   "metadata": {},
   "outputs": [],
   "source": [
    "E1(U_simp) # the defining equations for the exceptional divisor in `U_simp`"
   ]
  },
  {
   "cell_type": "code",
   "execution_count": null,
   "id": "faf7c210",
   "metadata": {},
   "outputs": [],
   "source": [
    "small_generating_set(ideal_sheaf(E1)(U)) # a glimpse of the ideal in the whole affine ambient space"
   ]
  },
  {
   "cell_type": "code",
   "execution_count": null,
   "id": "3819cb0c",
   "metadata": {},
   "outputs": [],
   "source": [
    "is_prime(ideal_sheaf(E1)) # in this case the exceptional divisor is prime"
   ]
  },
  {
   "cell_type": "markdown",
   "id": "16140bbc",
   "metadata": {},
   "source": [
    "We can perform (parts of) the usual operations for the blowup morphism `pr1`, such as e.g. pullback:"
   ]
  },
  {
   "cell_type": "code",
   "execution_count": null,
   "id": "2756772b",
   "metadata": {},
   "outputs": [],
   "source": [
    "W_cov = codomain(pr1) # a `CoveredScheme` with only one chart `W`\n",
    "II = ideal_sheaf(W_cov, W, ideal(OO(W), t+1)) # the `AbsIdealSheaf` on `W_cov` for the fiber over `t = -1"
   ]
  },
  {
   "cell_type": "code",
   "execution_count": null,
   "id": "ea66a2a6",
   "metadata": {},
   "outputs": [],
   "source": [
    "pb1_II = pullback(pr1, II) # the ideal sheaf for the fiber over `t = -1` in the blowup `W1`\n",
    "pb1_II(U_simp)"
   ]
  },
  {
   "cell_type": "code",
   "execution_count": null,
   "id": "c431a7a6",
   "metadata": {},
   "outputs": [],
   "source": [
    "is_prime(pb1_II)"
   ]
  },
  {
   "cell_type": "code",
   "execution_count": null,
   "id": "75279b55",
   "metadata": {},
   "outputs": [],
   "source": [
    "F1 = weil_divisor(pb1_II) # the fiber as a `AbsWeilDivisor`\n",
    "F1 = irreducible_decomposition(F1) # ...decomposed into irreducible components"
   ]
  },
  {
   "cell_type": "code",
   "execution_count": null,
   "id": "002bb1da",
   "metadata": {},
   "outputs": [],
   "source": [
    "Q1, Q2 = components(F1);"
   ]
  },
  {
   "cell_type": "markdown",
   "id": "d72801d7",
   "metadata": {},
   "source": [
    "Let us compare the components of the fiber with the exceptional divisor and the strict transform of the fiber."
   ]
  },
  {
   "cell_type": "code",
   "execution_count": null,
   "id": "2b03afa4",
   "metadata": {},
   "outputs": [],
   "source": [
    "str1_II = strict_transform(pr1, II);\n",
    "is_prime(str1_II)"
   ]
  },
  {
   "cell_type": "code",
   "execution_count": null,
   "id": "27e6b1e3",
   "metadata": {},
   "outputs": [],
   "source": [
    "ideal_sheaf(E1) == Q1"
   ]
  },
  {
   "cell_type": "code",
   "execution_count": null,
   "id": "933d164d",
   "metadata": {},
   "outputs": [],
   "source": [
    "ideal_sheaf(E1) == Q2"
   ]
  },
  {
   "cell_type": "code",
   "execution_count": null,
   "id": "d2fffd84",
   "metadata": {},
   "outputs": [],
   "source": [
    "str1_II == Q1"
   ]
  },
  {
   "cell_type": "code",
   "execution_count": null,
   "id": "88698429",
   "metadata": {},
   "outputs": [],
   "source": [
    "str1_II == Q2"
   ]
  },
  {
   "cell_type": "markdown",
   "id": "c4057cd2",
   "metadata": {},
   "source": [
    "For the fun of it, let us have a look at the `weil_divisor` associated to the square of the fiber ideal"
   ]
  },
  {
   "cell_type": "code",
   "execution_count": null,
   "id": "2883a200",
   "metadata": {},
   "outputs": [],
   "source": [
    "JJ = pb1_II^2\n",
    "@time irreducible_decomposition(weil_divisor(JJ))"
   ]
  },
  {
   "cell_type": "markdown",
   "id": "f1d22164",
   "metadata": {},
   "source": [
    "How do the components of the fiber over `t = -1` intersect?"
   ]
  },
  {
   "cell_type": "code",
   "execution_count": null,
   "id": "38dab652",
   "metadata": {},
   "outputs": [],
   "source": [
    "intersect(weil_divisor(Q1), weil_divisor(Q2)) # A custom method for Weil divisors on surfaces!"
   ]
  },
  {
   "cell_type": "markdown",
   "id": "98c9f73c",
   "metadata": {},
   "source": [
    "How do we actually get this number?"
   ]
  },
  {
   "cell_type": "code",
   "execution_count": null,
   "id": "46d6bdbb",
   "metadata": {},
   "outputs": [],
   "source": [
    "JJ = Q1 + Q2; # the sum of two ideal sheaves; will be 0-dimensional in this case\n",
    "Z = AlgebraicCycle(W1, ZZ, IdDict([JJ=>one(ZZ)])) # the associated `AbsAlgebraicCycle` with ZZ-coefficients"
   ]
  },
  {
   "cell_type": "code",
   "execution_count": null,
   "id": "e2bf0ef8",
   "metadata": {},
   "outputs": [],
   "source": [
    "irreducible_decomposition(Z) # decomposition into prime components with multiplicities"
   ]
  },
  {
   "cell_type": "code",
   "execution_count": null,
   "id": "6d124b9d",
   "metadata": {},
   "outputs": [],
   "source": [
    "integral(ans) # pushforward to the point `spec(kk)`"
   ]
  },
  {
   "cell_type": "markdown",
   "id": "588793ae",
   "metadata": {},
   "source": [
    "# References\n",
    "\n",
    " * **[Ful98]**: Fulton, W., Intersection Theory, Springer, 1998"
   ]
  }
 ],
 "metadata": {
  "kernelspec": {
   "display_name": "Julia 1.10.0",
   "language": "julia",
   "name": "julia-1.10"
  },
  "language_info": {
   "file_extension": ".jl",
   "mimetype": "application/julia",
   "name": "julia",
   "version": "1.10.0"
  }
 },
 "nbformat": 4,
 "nbformat_minor": 5
}
