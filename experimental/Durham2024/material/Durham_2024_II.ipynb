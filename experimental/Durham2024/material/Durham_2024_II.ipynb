{
 "cells": [
  {
   "cell_type": "markdown",
   "id": "ed8afc8f",
   "metadata": {},
   "source": [
    "# Algebraic Geometry in OSCAR: part II\n",
    "\n",
    "## A look into the OSCAR kitchen: What's cooking?\n",
    "\n",
    "Together with [Simon Brandhorst](https://www.math.uni-sb.de/ag/brandhorst/) we are currently working on finding an [automorphism of minimal entropy for Enriques surfaces](https://arxiv.org/pdf/1807.09452v2.pdf). To this end, we have implemented and automatized wide parts of the functionality for *elliptic surfaces*."
   ]
  },
  {
   "cell_type": "code",
   "execution_count": null,
   "id": "c676d78b",
   "metadata": {},
   "outputs": [],
   "source": [
    "using Revise, Oscar"
   ]
  },
  {
   "cell_type": "code",
   "execution_count": null,
   "id": "81757145",
   "metadata": {
    "scrolled": true
   },
   "outputs": [],
   "source": [
    "kk = GF(113) # the finite field (Galois field) with 113 elements\n",
    "kkt_poly, t_poly = kk[:t] # the polynomial ring in one variable `t` over `kk`\n",
    "kkt_field = fraction_field(kkt_poly) # the fraction field of that polynomial ring\n",
    "P, (x, y) = kkt_field[:x, :y]; # the bivariate polynomial ring over `kkt_field`\n",
    "f = y^2 - x^3 - (1 - t_poly^8)*x # a Weierstrass equation for an elliptic curve\n",
    "E = elliptic_curve(f, x, y) # the associated elliptic curve as an instance of `EllipticCurve`"
   ]
  },
  {
   "cell_type": "markdown",
   "id": "c8cb97c0",
   "metadata": {},
   "source": [
    "We can construct an elliptic surface directly from `E`."
   ]
  },
  {
   "cell_type": "code",
   "execution_count": null,
   "id": "724727a5",
   "metadata": {},
   "outputs": [],
   "source": [
    "X = elliptic_surface(E, 2; resolution_strategy=:simultaneous)"
   ]
  },
  {
   "cell_type": "markdown",
   "id": "d2ff33ec",
   "metadata": {},
   "source": [
    "Rational points on `E` will give rise to elements in the *Mordell-Weil lattice* of `X`. We have picked some points and make them known on `X`."
   ]
  },
  {
   "cell_type": "code",
   "execution_count": null,
   "id": "6b0cef5f",
   "metadata": {},
   "outputs": [],
   "source": [
    "t = kkt_field(t_poly);\n",
    "\n",
    "basis_mwl = [[62*t^4 + 6*t^3 + 106*t^2 + 75*t + 26, 66*t^6 + 67*t^5 + 37*t^4 + 60*t^3 + 67*t^2 + 101*t + 58], [112*t^4 + 97*t^2 + 98, 104*t^5 + 82*t^3 + 91*t], [t^4 + 112, 87*t^4 + 26], [8*t^4 + 17*t^3 + 11*t^2 + 70*t + 7, 39*t^6 + 17*t^5 + 60*t^4 + 64*t^3 + 41*t^2 + 29*t + 89], [50*t^4 + 104*t^2 + 72, 56*t^6 + 30*t^4 + 36*t^2 + 104], [31*t^4 + 45*t^3 + 60*t^2 + 59*t + 13, 43*t^6 + 18*t^5 + 67*t^4 + 75*t^3 + 10*t^2 + 44*t + 17], [105*t^4 + 43*t^3 + 61*t^2 + 17*t + 7, 20*t^6 + 33*t^5 + 53*t^4 + 9*t^3 + 63*t^2 + 70*t + 89], [62*t^4 + 75*t^3 + 8*t^2 + 107*t + 87, 66*t^6 + 103*t^5 + 103*t^4 + 63*t^3 + 46*t^2 + 37*t + 34]]\n",
    "\n",
    "basis_mwl = [E(i) for i in basis_mwl]"
   ]
  },
  {
   "cell_type": "code",
   "execution_count": null,
   "id": "0acb4fca",
   "metadata": {},
   "outputs": [],
   "source": [
    "Oscar.set_mordell_weil_basis!(X, basis_mwl)"
   ]
  },
  {
   "cell_type": "markdown",
   "id": "f3a68ae5",
   "metadata": {},
   "source": [
    "In order to see more of what's going on, we may set up the verbosity."
   ]
  },
  {
   "cell_type": "code",
   "execution_count": null,
   "id": "9a1030ef",
   "metadata": {},
   "outputs": [],
   "source": [
    "set_verbose_level(:EllipticSurface, 5)\n",
    "set_verbose_level(:MorphismFromRationalFunctions, 5)"
   ]
  },
  {
   "cell_type": "markdown",
   "id": "22e56858",
   "metadata": {},
   "source": [
    "For elliptic surfaces we can compute a basis for the **Neron-Severi group** whenever we have found a Mordell-Weil basis."
   ]
  },
  {
   "cell_type": "code",
   "execution_count": null,
   "id": "d9f24377",
   "metadata": {
    "scrolled": true
   },
   "outputs": [],
   "source": [
    "# The following one command is only necessary for the correct bookkeeping with further code below; ignore this!\n",
    "Oscar._trivial_lattice(X;reducible_singular_fibers_in_PP1=Oscar._reducible_fibers_disc(X;sort=false))\n",
    "\n",
    "# compute the full Neron-Severi lattice of `X`\n",
    "alg_lat, _, NS = algebraic_lattice(X)\n",
    "V = ambient_space(NS)"
   ]
  },
  {
   "cell_type": "markdown",
   "id": "2847fa4f",
   "metadata": {},
   "source": [
    "The elements in `alg_lat` are divisors spanning the divisor class group up to *numerical equivalence*. \n",
    "The big matrix is the *gram matrix* for their pairwise intersections."
   ]
  },
  {
   "cell_type": "code",
   "execution_count": null,
   "id": "2e0eba30",
   "metadata": {
    "scrolled": true
   },
   "outputs": [],
   "source": [
    "alg_lat"
   ]
  },
  {
   "cell_type": "markdown",
   "id": "80ac901a",
   "metadata": {},
   "source": [
    "Since `X` is a smooth, compact surface, the intersection of either two Weil divisors is well defined and we can compute pairwise intersection numbers."
   ]
  },
  {
   "cell_type": "code",
   "execution_count": null,
   "id": "26cf3206",
   "metadata": {},
   "outputs": [],
   "source": [
    "intersect(alg_lat[1], alg_lat[12])"
   ]
  },
  {
   "cell_type": "markdown",
   "id": "35b118d7",
   "metadata": {},
   "source": [
    "Even the self-intersection of all generators is known here! But unfortunately this is only known due to some tricks on elliptic surfaces..."
   ]
  },
  {
   "cell_type": "code",
   "execution_count": null,
   "id": "070b85af",
   "metadata": {},
   "outputs": [],
   "source": [
    "intersect(alg_lat[1], alg_lat[1]) # the fiber of the elliptic fibration has self-intersection 0"
   ]
  },
  {
   "cell_type": "code",
   "execution_count": null,
   "id": "2f2aca54",
   "metadata": {},
   "outputs": [],
   "source": [
    "intersect(alg_lat[3], alg_lat[3]) # any rational curve on a K3-surface has self intersection -2"
   ]
  },
  {
   "cell_type": "markdown",
   "id": "06c22c84",
   "metadata": {},
   "source": [
    "### A dirty speedup for the self-intersection of curves\n",
    "\n",
    "> **Task 1:** Extend the computation of self-intersection of curves on a smooth surface by means of the [adjunction formula](https://en.wikipedia.org/wiki/Adjunction_formula) and the [Riemann-Roch theorem](https://en.wikipedia.org/wiki/Hirzebruch%E2%80%93Riemann%E2%80%93Roch_theorem) for curves.\n",
    "\n",
    "Roughly this can be done as follows.\n",
    "\n",
    "> **Theorem (Riemann-Roch for curves):** Let $C$ be a smooth projective curve and $D$ a divisor on it. Then \n",
    "$$\\chi(D) = h^0(\\mathcal O(D)) - h^1(\\mathcal O(D)) = \\mathrm{deg}(D) + 1 - g(C)$$\n",
    "where $g(C) = h^0(\\omega_C)$ is the *genus* and $\\mathrm{deg}(D) = \\int_C c_1(\\mathcal O(D))$ is the degree of the divisor.\n",
    "\n",
    "Applying this to the canonical divisor $D = \\omega_C$, we get the \n",
    "well known formula $\\deg(\\omega_C) = 2g(C) - 2$. For the canonical bundle of $C$ we have a formula relating it to the canonical bundle of the ambient surface:\n",
    "\n",
    "> **Theorem (Adjunction formula):** Let $X$ be a smooth, projective surface and $i : C \\hookrightarrow X$ a smooth divisor on it. Then \n",
    "$$ \\omega_C = i^* (\\omega_X \\otimes \\mathcal O(C)).$$\n",
    "\n",
    "Intersection theory tells us that $\\mathrm{deg}(i^*\\mathcal O(C)) = C.C$ is equal to the self-intersection of $C$ in $X$ and that the degree is logarithmic for line bundles on curves. Therefore \n",
    "$$2g(C) - 2 = \\mathrm{deg}(\\omega_C) = \\mathrm{deg}(i^* \\omega_X) + \\deg(i^*\\mathcal O(C))) = K_X.C + C.C$$\n",
    "where $K_X$ is the *canonical divisor* of the surface $X$.\n",
    "\n",
    "The algorithm would now proceed as follows:\n",
    " * Is a canonical divisor of the surface known? If not, throw an error `can not compute self-intersection`.\n",
    " * Is the curve smooth and in general position w.r.t $K_X$? If not, throw an error.\n",
    " * Compute the genus of $C$.\n",
    " * Return $2g(C) - 2 - C.K_X$.\n",
    " \n",
    "For the computation of the genus we may fall back to [implementations in Singular](https://www.singular.uni-kl.de/Manual/4-0-3/sing_1274.htm)."
   ]
  },
  {
   "cell_type": "markdown",
   "id": "25e400a2",
   "metadata": {},
   "source": [
    "## Weil- and Cartier divisors\n",
    "\n",
    "> **Definition (algebraic cycle):** Let $X$ be a scheme. An *algebraic cycle* of dimension $k$ is a formal sum \n",
    "$$ \\sum_{i} a_i \\cdot [V_i]$$\n",
    "where $V_i \\subset X$ are $k$-dimensional *subvarieties* of $X$. \n",
    "\n",
    "Following **[Ful98]** we will only speak of a variety for reduced and irreducible schemes. The algebraic cycles of dimension $k$ form an Abelian group which will be denoted by $Z_k(X)$. \n",
    "\n",
    "> **Definition (Weil divisor):** Let $X$ be an equidimensional scheme of dimension $d$. A *Weil divisor* is an algebraic cycle on $X$ of dimension $d-1$.\n",
    "\n",
    "Some divisors are more special than others:\n",
    "\n",
    "> **Definition (Cartier divisor):** An *effective Cartier divisor* is given by an ideal sheaf $\\mathcal I$ on $X$ which is locally principal for some non-zero divisor. A *Cartier divisor* is a formal linear combination of effective Cartier divisors.\n",
    "\n",
    "In other words: For every point $p \\in X$ there exists an open neighborhood $U \\supset p$ and a non-zero divisor $f \\in \\mathcal O(U)$ such that $\\mathcal I(U) = \\langle f \\rangle \\subset \\mathcal O(U)$.\n",
    "\n",
    "For any two such ''local trivializations'' $(U, f)$ and $(V, g)$ of an effective Cartier divisor $C$ there is a unit $u \\in \\mathcal O(U \\cap V)$ such that $f|_{U \\cap V} = u \\cdot g|_{U \\cap V}$. These give rise to transition functions of a line bundle on $X$ which we will denote by $\\mathcal O(C)$. This extends naturally to all Cartier divisors by taking common refinements."
   ]
  },
  {
   "cell_type": "markdown",
   "id": "2d3548b6",
   "metadata": {},
   "source": [
    "We also have a Cartier divisor floating around, coming as exceptional divisor of the resolution of singularities; but we first have to dig it out of the internals of the elliptic surface."
   ]
  },
  {
   "cell_type": "code",
   "execution_count": null,
   "id": "43c96010",
   "metadata": {},
   "outputs": [],
   "source": [
    "Exc_amb = X.ambient_exceptionals[1] # a Cartier divisor on some smooth ambient space of `X`\n",
    "Exc = pullback(X.inc_Y, Exc_amb) # the pullback of that divisor to `X` itself\n",
    "first.(Exc.(affine_charts(X)))"
   ]
  },
  {
   "cell_type": "markdown",
   "id": "7a587975",
   "metadata": {},
   "source": [
    "Any Cartier divisor gives rise to a Weil divisor:"
   ]
  },
  {
   "cell_type": "code",
   "execution_count": null,
   "id": "873b7c50",
   "metadata": {},
   "outputs": [],
   "source": [
    "Exc_weil = weil_divisor(Exc)\n",
    "irreducible_decomposition(Exc_weil)"
   ]
  },
  {
   "cell_type": "markdown",
   "id": "7092773d",
   "metadata": {},
   "source": [
    "The converse does not hold in general. However, it holds on *smooth* schemes and for every Weil divisor $D$ one may ask: ''Is $D$ actually Cartier?''\n",
    "\n",
    "> **Task 2:** Implement an algorithm which, given a Weil divisor $D$, decides whether $D$ is Cartier and, if so, computes a local trivialization for $D$.\n",
    "\n",
    "The point in this is, as we shall see later, that while the intersection of two Weil divisors is usually not well defined, the intersection of a Cartier- and a Weil divisor always is. In fact, Cartier divisors play a crucial role in the development of intersection theory."
   ]
  },
  {
   "cell_type": "markdown",
   "id": "c2237568",
   "metadata": {},
   "source": [
    "### An automorphism of the K3 surface\n",
    "\n",
    "In our project with Simon Brandhorst we are constructing a very specific automorphism of a K3 surface (which is a lift to the universal cover of the Enriques surface automorphism proposed by Oguiso and Yu). K3 surfaces enjoy various favourable properties which allow us (more or less) to identify an automorphism $f \\colon X \\to X$ from its ''fingerprint'' given by the action on the Neron-Severi lattice\n",
    "\n",
    "$$ f_* \\colon \\mathrm{NS}(X) \\to \\mathrm{NS}(X).$$\n",
    "\n",
    "This should be thought of as something like a *hash function*: Any two given automorphisms $f$ and $g$ are very likely to agree if their actions on the Neron-Severi lattice do. However, given $f_*$ as above, it is almost impossible to reconstruct $X$ and $f$. This is basically what the whole paper with Simon is about!\n",
    "\n",
    "Let us have a look at the reconstruction of $f$."
   ]
  },
  {
   "cell_type": "code",
   "execution_count": null,
   "id": "ab079123",
   "metadata": {},
   "outputs": [],
   "source": [
    "# the matrix representing the Oguiso-Yu automorphism w.r.t the basis of V\n",
    "fOYonAlgX = QQ[5 1 0 -2 1 -1 0 -1 1 0 -1 0 -1 1 0 0 0 2; 2 -1 1 -2 2 0 1 -2 2 0 -2 0 -2 3 0 1 1 3; 4 1 0 -1 1 -1 0 -1 1 0 -1 0 -1 1 0 0 0 2; 5 1 0 -2 1 -1 0 -2 1 0 -1 0 -1 1 0 0 0 2; 1 0 -1 0 0 0 0 0 0 0 0 0 0 0 0 0 0 0; 0 0 0 0 0 0 0 0 1 0 0 0 0 0 0 0 0 0; 5 1 0 -2 1 -1 0 -1 1 -1 -1 0 -1 1 0 0 0 2; 0 0 0 0 1 0 0 0 0 0 0 0 0 0 0 0 0 0; 4 1 0 -2 1 0 0 -1 1 0 -1 0 -1 1 0 0 0 2; 1 0 0 0 0 0 -1 0 0 0 0 0 0 0 0 0 0 0; 10 -1 2 -7 5 -2 2 -4 5 1 -5 0 -5 7 0 2 2 9; 10 3 -1//2 -7//2 1//2 -3//2 -1//2 -5//2 1//2 -1//2 -2 0 -2 2 0 0 0 2; 7 1 1 -3 1 -1 0 -2 2 0 -3 0 -2 2 0 1 1 3; 4 0 1 -3 2 0 1 -3 1 1 -2 0 -3 3 1 1 0 3; 8 2 1 -3 1 -1 0 -2 2 0 -3 0 -2 2 -1 1 1 3; 10 0 2 -6 4 -2 1 -3 4 0 -5 0 -3 5 -1 2 2 7; 9 1 1//2 -9//2 5//2 -3//2 3//2 -7//2 5//2 1//2 -3 -1 -4 5 0 1 1 5; -3 -2 1 0 1 0 1 0 1 0 0 0 0 1 0 0 1 1]"
   ]
  },
  {
   "cell_type": "markdown",
   "id": "0ba8189b",
   "metadata": {},
   "source": [
    "So that is the fingerprint we need to realize. We have constructed a candidate for the automorphism; let's load it."
   ]
  },
  {
   "cell_type": "code",
   "execution_count": null,
   "id": "ad29e9ac",
   "metadata": {},
   "outputs": [],
   "source": [
    "coord_imgs = load(\"coord_imgs.mrdi\")\n",
    "coord_imgs = [evaluate(fr, gens(ambient_coordinate_ring(weierstrass_chart_on_minimal_model(X)))) for fr in coord_imgs]"
   ]
  },
  {
   "cell_type": "code",
   "execution_count": null,
   "id": "693ffd41",
   "metadata": {},
   "outputs": [],
   "source": [
    "aut = morphism_from_rational_functions(X, X,\n",
    "            weierstrass_chart_on_minimal_model(X),\n",
    "            weierstrass_chart_on_minimal_model(X),\n",
    "            coord_imgs; check=false\n",
    "           );"
   ]
  },
  {
   "cell_type": "markdown",
   "id": "9e0b44e8",
   "metadata": {},
   "source": [
    "Weil divisors are covariant in nature with respect to proper maps. \n",
    "\n",
    "> **Definition (proper pushforward):** Let $f \\colon X \\to Y$ be a proper morphism of algebraic schemes, $P \\in X$ a point of dimension $p$ and $Q = f(P) \\in Y$ its image. The pushforward of the cycle $[P] \\in Z_p(X)$ is defined as \n",
    "$$ f_*([P]) = \\begin{cases} [R(P):R(Q)] \\cdot [Q] &\\mathrm{ if } \\quad \\dim Q = \\dim P \\\\ 0  & \\mathrm{ otherwise.} \\end{cases}$$\n",
    "The general pushforward for algebraic cycles is defined by linear extension to $Z_p(X)$.\n",
    "\n",
    "Here we denote by $R(P)$ the field of rational functions on the subvariety of $X$ given by $P$ and vice versa for $Q$. \n",
    "\n",
    "For an *isomorphism* we can skip the computation of the degree of field extensions and just compute the image of a point."
   ]
  },
  {
   "cell_type": "code",
   "execution_count": null,
   "id": "430bc097",
   "metadata": {
    "scrolled": true
   },
   "outputs": [],
   "source": [
    "set_attribute!(aut, :is_isomorphism=>true)\n",
    "D = alg_lat[3]\n",
    "pf_D = pushforward(aut, D)"
   ]
  },
  {
   "cell_type": "markdown",
   "id": "0b6b4f7a",
   "metadata": {},
   "source": [
    "> **Task 3:** Extend the functionality for pushforward of algebraic cycles to more than just isomorphisms.\n",
    "\n",
    "One possibility would, for instance, be blowdown maps where we know that they are proper and birational. More generally, we do not have a good method to compute the degree of the field extension directly. But one could certainly think of one or two dirty workarounds for this..."
   ]
  },
  {
   "cell_type": "markdown",
   "id": "af7ce9c2",
   "metadata": {},
   "source": [
    "For K3 surfaces we can do more than just push forward a divisor: We can represent the image divisor in our chosen basis for the Neron-Severi lattice!"
   ]
  },
  {
   "cell_type": "code",
   "execution_count": null,
   "id": "ab332441",
   "metadata": {},
   "outputs": [],
   "source": [
    "rep_pf_D = basis_representation(X, pf_D)"
   ]
  },
  {
   "cell_type": "markdown",
   "id": "4d33ea45",
   "metadata": {},
   "source": [
    "For elliptically fibered K3 surfaces we have an automated and optimized method to do everything at once."
   ]
  },
  {
   "cell_type": "code",
   "execution_count": null,
   "id": "4e7f951d",
   "metadata": {},
   "outputs": [],
   "source": [
    "pf_aut = Oscar.pushforward_on_algebraic_lattices(aut) # CAUTION: This command takes some time for computation!"
   ]
  },
  {
   "cell_type": "markdown",
   "id": "116c7f3a",
   "metadata": {},
   "source": [
    "That finding a basis representation for a divisor actually works is due to a rather remarkable property of K3 surfaces: The notions of rational-, algebraic-, and numerical equivalence agree. Consequently, we can compute a basis representation for any divisor from its intersection numbers with the generators of the Neron-Severi lattice.\n",
    "\n",
    "Note, however, that for a general surface it is almost impossible to determine whether or not two given divisors are even rationally equivalent!\n",
    "\n",
    "Before we move on, let us once compare the induced map on $\\mathrm{NS}(X)$ for the given automorphism `aut` with the fingerprint of `f`:"
   ]
  },
  {
   "cell_type": "code",
   "execution_count": null,
   "id": "e0a1e098",
   "metadata": {},
   "outputs": [],
   "source": [
    "matrix(pf_aut)"
   ]
  },
  {
   "cell_type": "code",
   "execution_count": null,
   "id": "386e439a",
   "metadata": {},
   "outputs": [],
   "source": [
    "fOYonAlgX"
   ]
  },
  {
   "cell_type": "markdown",
   "id": "cb33f6ad",
   "metadata": {},
   "source": [
    "As you can see, we did not get completely lucky this time. Some more adjustments seem to be needed."
   ]
  },
  {
   "cell_type": "markdown",
   "id": "b5215c37",
   "metadata": {},
   "source": [
    "### A brief review of rational equivalence\n",
    "\n",
    "Let $X$ be a scheme, $U \\subset X$ an affine open subset, and $f \\in \\mathcal O(U)$ a function. \n",
    "For a prime ideal $P \\subset \\mathcal O(U)$ of codimension one we define the *order* of $f$ at \n",
    "the point $P$ as \n",
    "\n",
    "$$ \\mathrm{ord}_P(f) = \\mathrm{length}(\\mathcal O_{X, P}/\\langle f\\rangle)$$\n",
    "\n",
    "where $\\mathcal O_{X, P} = \\mathcal O(U)_P$ is the localization at the complement of $P$.\n",
    "This ring is local of dimension one, so that the quotient by $\\langle h\\rangle$ is zero-dimensional and hence has finite length.\n",
    "\n",
    "\n",
    "If $X$ is a variety, then this extends naturally to rational functions on $X$ and we get the following notion.\n",
    "\n",
    "> **Definition (principal divisor):** Let $W$ be a variety and $f \\in R(W)$ a rational function. The *principal divisor* associated to $f$ is \n",
    "$$\\mathrm{div}(f) = \\sum_{P \\subset W} \\mathrm{ord}_P(f) \\cdot [P].$$\n",
    "\n",
    "Moreover, two algebraic cycles can be related by the following equivalence.\n",
    "\n",
    "> **Definition (rational equivalence):** Two algebraic cycles $D, E \\in Z_k(X)$ on a scheme $X$ are called *rationally equivalent* $D \\sim E$ if there exist a finite number of subvarieties $W_i \\subset X$ of dimension $k+1$ and rational functions $f_i \\in R(W_i)$ such that \n",
    "$$ D - E = \\sum_i \\mathrm{div}(f_i).$$\n",
    "\n",
    "The quotient $Z_k(X)/\\sim$ will be denoted by $A_k(X)$, the $k$-th *Chow group* of $X$.\n",
    "\n",
    "> **Proposition (pushforward on Chow groups):** The pushforward for proper maps descends to a morphism of Chow groups.\n",
    "\n",
    "See e.g. **[Ful98]**, Theorem 1.4."
   ]
  },
  {
   "cell_type": "markdown",
   "id": "5072cc58",
   "metadata": {},
   "source": [
    "We do already have a data type for rational functions on varieties:"
   ]
  },
  {
   "cell_type": "code",
   "execution_count": null,
   "id": "72fd6873",
   "metadata": {},
   "outputs": [],
   "source": [
    "RX = function_field(X)"
   ]
  },
  {
   "cell_type": "markdown",
   "id": "7c021124",
   "metadata": {},
   "source": [
    "Elements of this field are represented on the different charts `U` of `X` as fractions of polynomials for the `ambient_coordinate_ring` of `U`. This is mostly due to the fact that we have no implementation of fraction fields for quotients of polynomial rings at this time. "
   ]
  },
  {
   "cell_type": "code",
   "execution_count": null,
   "id": "3aee41f5",
   "metadata": {},
   "outputs": [],
   "source": [
    "W = weierstrass_chart_on_minimal_model(X)\n",
    "R = ambient_coordinate_ring(W)\n",
    "(x, y, t) = gens(R)\n",
    "f = RX(x) # x as a rational function on `X`; potentially with poles outside `W`"
   ]
  },
  {
   "cell_type": "markdown",
   "id": "24c660cc",
   "metadata": {},
   "source": [
    "Let us look at a representative of $f$ in another chart:"
   ]
  },
  {
   "cell_type": "code",
   "execution_count": null,
   "id": "e067eaf5",
   "metadata": {},
   "outputs": [],
   "source": [
    "simp_cov = Oscar.simplified_covering(X)\n",
    "U = simp_cov[5]\n",
    "f[U] # Note that we are using rectangular brackets for this at the moment!"
   ]
  },
  {
   "cell_type": "markdown",
   "id": "82e96ac0",
   "metadata": {},
   "source": [
    "Note that representatives are not necessarily automatically reduced."
   ]
  },
  {
   "cell_type": "code",
   "execution_count": null,
   "id": "be1f453d",
   "metadata": {},
   "outputs": [],
   "source": [
    "g = RX(first(gens(modulus(OO(W)))))\n",
    "g[U]"
   ]
  },
  {
   "cell_type": "code",
   "execution_count": null,
   "id": "7586ae90",
   "metadata": {},
   "outputs": [],
   "source": [
    "is_zero(g)"
   ]
  },
  {
   "cell_type": "markdown",
   "id": "4e862dcf",
   "metadata": {},
   "source": [
    "Determining the principal divisor associated to a rational function is something which is actually still missing from our implementations!\n",
    "\n",
    "> **Task 4:** Implement an algorithm which computes $\\mathrm{div}(f)$ for a rational function $f \\in R(X)$ on a variety $X$."
   ]
  },
  {
   "cell_type": "markdown",
   "id": "cf973d9f",
   "metadata": {},
   "source": [
    "However, we already have a method to determine the order of vanishing of a rational function on a divisor which might be helpful."
   ]
  },
  {
   "cell_type": "code",
   "execution_count": null,
   "id": "0ed0ca2e",
   "metadata": {},
   "outputs": [],
   "source": [
    "I = ideal(OO(W), y)\n",
    "decomp = primary_decomposition(I)\n",
    "P = decomp[1][1]"
   ]
  },
  {
   "cell_type": "code",
   "execution_count": null,
   "id": "1e8d1cf7",
   "metadata": {},
   "outputs": [],
   "source": [
    "D = weil_divisor(ideal_sheaf(X, W, P))\n",
    "order_of_vanishing(f, D)"
   ]
  },
  {
   "cell_type": "code",
   "execution_count": null,
   "id": "e5deb4e7",
   "metadata": {
    "scrolled": true
   },
   "outputs": [],
   "source": [
    "order_of_vanishing(f^(-2), D)"
   ]
  },
  {
   "cell_type": "markdown",
   "id": "61e1bdc5",
   "metadata": {},
   "source": [
    "## More on Cartier divisors\n",
    "\n",
    "While Weil divisors are of homological nature (i.e. they have a covariant behaviour), Cartier divisors are cohomological: Given a morphism of schemes $f \\colon X \\to Y$ and a Cartier divisor $C$ on $Y$ there should be a natural notion of ''pulling back'' $C$. Unfortunately, this is not quite the case.\n",
    "\n",
    "### Cartier divisors on varieties\n",
    "On a *variety* $X$ we can define Cartier divisors to be given by a collection $(U_i, f_i)$ where $f_i \\in R(X)$ is a rational function and for any pairs $U_i \\cap U_j$ the quotient $f_i/f_j \\in \\mathcal O(U_i \\cap U_j)^*$.\n",
    "In theory, this spares us the detour to complete the monoid of effective Cartier divisors.\n",
    "\n",
    "Recall that to each Cartier divisor $C$ we can associate a line bundle $\\mathcal L = \\mathcal O(C)$. \n",
    "A rational function $f \\in R(X)$ determines a *principal* Cartier divisor and we may call two Cartier divisors \n",
    "*rationally equivalent*, if their difference is principal. \n",
    "\n",
    "> **Lemma:** On a variety $X$ there is a $1:1$-correspondence between Cartier divisors up to rational equivalence and isomorphism classes of line bundles. \n",
    "\n",
    "In order to get back a Cartier divisor from a line bundle $\\mathcal L$ we may construct a *rational section* $s$ of $\\mathcal L$: Start on one chart $U_0$ of a local trivialization of $\\mathcal L$ and extend the local algebraic section $e$ for this trivialization as a rational section to all of $X$. In the notation above, the associated Cartier divisor will then be given by the collection $(U_j, f_j/f_0)$. We denote it by $c_1(\\mathcal L)$. \n",
    "\n",
    "### Intersection of a Cartier divisor with an algebraic cycle\n",
    "\n",
    "Let $X$ be a scheme and $D = \\sum_i a_i \\cdot W_i \\in Z_k(X)$ an algebraic cycle with $W_i$ irreducible. For a Cartier divisor $C = \\{(U_j, f_j)\\}_{j=1}^N$ we may define the intersection $C \\cap D$ as follows.\n",
    "\n",
    " * We reduce to the case of irreducible cycles by $C \\cap (\\sum_i a_i \\cdot W_i) = \\sum_i a_i \\cdot (C \\cap W_i)$.\n",
    " * For an irreducible cycle $\\iota \\colon W \\hookrightarrow X$ we set \n",
    "   $$C \\cap W := \\iota_*(c_1(\\iota^* \\mathcal O(C))\\cap [W]).$$\n",
    " * $\\iota^*\\mathcal O(C)$ is the pullback of the line bundle $\\mathcal O(C)$ associated to $C$. \n",
    " * $\\iota_*$ denotes the proper pushforward along the closed embedding $\\iota$.\n",
    " * $[W]$ denotes the fundamental class of $[W]$. \n",
    " * $c_1(\\mathcal L) \\cap [W]$ is the Weil divisor on $W$ associated to the Cartier divisor $c_1(\\mathcal L)$."
   ]
  },
  {
   "cell_type": "markdown",
   "id": "1d981f7f",
   "metadata": {},
   "source": [
    "### More general intersections of divisors on surfaces\n",
    "\n",
    "The current implementation has a method `intersect(D::AbsAlgebraicCycle, C::CartierDivisor)`, but it is not fully implemented yet! Let's have a look at some examples."
   ]
  },
  {
   "cell_type": "code",
   "execution_count": null,
   "id": "f06621ab",
   "metadata": {
    "scrolled": false
   },
   "outputs": [],
   "source": [
    "Z = intersect(alg_lat[1], Exc)\n",
    "integral(Z)"
   ]
  },
  {
   "cell_type": "code",
   "execution_count": null,
   "id": "3867e729",
   "metadata": {},
   "outputs": [],
   "source": [
    "Z = intersect(alg_lat[2], Exc)\n",
    "integral(Z)"
   ]
  },
  {
   "cell_type": "code",
   "execution_count": null,
   "id": "66b77bae",
   "metadata": {},
   "outputs": [],
   "source": [
    "Z = intersect(alg_lat[3], Exc)"
   ]
  },
  {
   "cell_type": "code",
   "execution_count": null,
   "id": "01dada74",
   "metadata": {},
   "outputs": [],
   "source": [
    "Z = intersect(alg_lat[12], Exc)\n",
    "integral(Z)"
   ]
  },
  {
   "cell_type": "code",
   "execution_count": null,
   "id": "b10822bb",
   "metadata": {},
   "outputs": [],
   "source": [
    "Z_decomp = irreducible_decomposition(Z)"
   ]
  },
  {
   "cell_type": "code",
   "execution_count": null,
   "id": "f960a263",
   "metadata": {},
   "outputs": [],
   "source": [
    "integral(ans)"
   ]
  },
  {
   "cell_type": "markdown",
   "id": "f0dcbb90",
   "metadata": {},
   "source": [
    "This leads us to some more tricky tasks to achieve this week.\n",
    "\n",
    "> **Task 5:** Fill the gaps in the implementation of `intersect` for an `EffectiveCartierDivisor` and an `AbsAlgebraicCycle`.\n",
    "\n",
    "**Warning:** This is a deep dive! We will need some preparation for that.\n",
    "\n",
    "> **Task 6:** Speed up the implementation for `irreducible_decomposition`. \n",
    "\n",
    "It seems that a lot of time is spent in the generic method. But for many useful applications it should be possible to use more efficient shortcuts!\n",
    "\n",
    "> **Task 7:** Implement a method to construct the line bundle $\\mathcal O(C)$ associated to a Cartier divisor.\n",
    "\n",
    "This is rather technical. We do have support for coherent sheaves, though, but maybe for the purpose of intersection theory, we can avoid actually carrying out this nasty step?\n",
    "\n",
    "> **Task 8:** Implement the reconstruction of a Cartier divisor for a given line bundle $\\mathcal L$ on a variety $X$."
   ]
  },
  {
   "cell_type": "code",
   "execution_count": null,
   "id": "4893a0d8",
   "metadata": {},
   "outputs": [],
   "source": []
  }
 ],
 "metadata": {
  "kernelspec": {
   "display_name": "Julia 1.10.0",
   "language": "julia",
   "name": "julia-1.10"
  },
  "language_info": {
   "file_extension": ".jl",
   "mimetype": "application/julia",
   "name": "julia",
   "version": "1.10.0"
  }
 },
 "nbformat": 4,
 "nbformat_minor": 5
}
